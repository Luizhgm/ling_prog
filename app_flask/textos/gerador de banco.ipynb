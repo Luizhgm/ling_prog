{
 "cells": [
  {
   "cell_type": "code",
   "execution_count": 1,
   "metadata": {},
   "outputs": [],
   "source": [
    "import json"
   ]
  },
  {
   "cell_type": "code",
   "execution_count": 10,
   "metadata": {},
   "outputs": [],
   "source": [
    "data=[{\"type\":\"EQUIPE DE COMPETIÇÃO\", \"name\":\"Nautilus\", \"link\":\"https://ufrjnautilus.com\", \"nota\":10},\n",
    "      {\"type\":\"EQUIPE DE COMPETIÇÃO\", \"name\":\"Rocket\", \"link\":\"\", \"nota\":10},\n",
    "      {\"type\":\"INICIAÇÃO CIENTIFICA\", \"name\":\"SMT\", \"link\":\"\", \"nota\":10},\n",
    "      {\"type\":\"INICIAÇÃO CIENTIFICA\", \"name\":\"LPS\", \"link\":\"\", \"nota\":10},\n",
    "      {\"type\":\"INICIAÇÃO CIENTIFICA\", \"name\":\"PADS\", \"link\":\"\", \"nota\":10},\n",
    "      {\"type\":\"EXTENSÃO\", \"name\":\"Lafae\", \"link\":\"\", \"nota\":10},\n",
    "      {\"type\":\"EXTENSÃO\", \"name\":\"LIpE\", \"link\":\"\", \"nota\":10},\n",
    "     ]"
   ]
  },
  {
   "cell_type": "code",
   "execution_count": 11,
   "metadata": {},
   "outputs": [],
   "source": [
    "with open('lista.json', 'w') as outfile:\n",
    "    json.dump(data, outfile)"
   ]
  },
  {
   "cell_type": "code",
   "execution_count": 5,
   "metadata": {},
   "outputs": [],
   "source": [
    "data=[{\"username\":\"luiz\",\"password\":\"luiz\"},{\"username\":\"root\",\"password\":\"root\"}]"
   ]
  },
  {
   "cell_type": "code",
   "execution_count": 6,
   "metadata": {},
   "outputs": [],
   "source": [
    "with open('logins.json', 'w') as outfile:\n",
    "    json.dump(data, outfile)"
   ]
  },
  {
   "cell_type": "code",
   "execution_count": null,
   "metadata": {},
   "outputs": [],
   "source": []
  }
 ],
 "metadata": {
  "kernelspec": {
   "display_name": "Python 3",
   "language": "python",
   "name": "python3"
  },
  "language_info": {
   "codemirror_mode": {
    "name": "ipython",
    "version": 3
   },
   "file_extension": ".py",
   "mimetype": "text/x-python",
   "name": "python",
   "nbconvert_exporter": "python",
   "pygments_lexer": "ipython3",
   "version": "3.6.4"
  }
 },
 "nbformat": 4,
 "nbformat_minor": 2
}
